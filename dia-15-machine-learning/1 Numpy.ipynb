{
  "cells": [
    {
      "cell_type": "markdown",
      "metadata": {
        "id": "MuYB4pE_viZG"
      },
      "source": [
        "# Práctica de la librería Numpy\n",
        "\n",
        "En este notebook, se desarrollarán una serie de tareas utilizando la librería Numpy (Numerical Python).\n",
        "\n",
        "Se proponen y documentan posibles formas de resolver los ejercicios, pero las mismas no son únicas.\n",
        "\n",
        "Siempre es una buena idea verificar la [Documentación Oficial de Numpy](https://numpy.org/devdocs/user/index.html), donde es posible encontrar todo tipo de información referida a esta librería. Y si te quedas trabado, busca en Google \"como hacer [algo] con Numpy\". Hay enormes probabilidades de que esa pregunta ya haya sido respondida!"
      ]
    },
    {
      "cell_type": "code",
      "execution_count": 1,
      "metadata": {
        "id": "Hrz__kvsviZL"
      },
      "outputs": [],
      "source": [
        "# Importamos Numpy con su abreviación \"np\"\n",
        "import numpy as np"
      ]
    },
    {
      "cell_type": "code",
      "execution_count": 2,
      "metadata": {
        "id": "9fwuO-3_viZM"
      },
      "outputs": [],
      "source": [
        "# Podemos crear arrays de una dimensión con la función np.array()\n",
        "array_unidim = np.array([1, 2, 3, 4, 5])\n",
        "\n",
        "# O un array de dos dimensiones (bidimensional)\n",
        "array_bidim = np.array([[1, 2, 3],\n",
        "                        [4, 5, 6]])\n",
        "\n",
        "# O un array de tres dimensiones (tridimensional)\n",
        "array_tridim = np.array([[[1, 2, 3],\n",
        "                          [4, 5, 6]],\n",
        "                         [[7, 8, 9],\n",
        "                          [10, 11, 12]]])"
      ]
    },
    {
      "cell_type": "code",
      "execution_count": 3,
      "metadata": {
        "id": "e-7RlxLQY-2i",
        "outputId": "a2571115-30b4-422f-ad52-6867a38ac36d"
      },
      "outputs": [
        {
          "data": {
            "text/plain": [
              "array([1, 2, 3, 4, 5])"
            ]
          },
          "execution_count": 3,
          "metadata": {},
          "output_type": "execute_result"
        }
      ],
      "source": [
        "# Array de una dimensión\n",
        "array_unidim"
      ]
    },
    {
      "cell_type": "code",
      "execution_count": 4,
      "metadata": {
        "id": "s1RpCthjY-2l",
        "outputId": "f7194487-907f-4ec6-e362-d392f65fe514"
      },
      "outputs": [
        {
          "data": {
            "text/plain": [
              "array([[1, 2, 3],\n",
              "       [4, 5, 6]])"
            ]
          },
          "execution_count": 4,
          "metadata": {},
          "output_type": "execute_result"
        }
      ],
      "source": [
        "# Array de dos dimensiones\n",
        "array_bidim"
      ]
    },
    {
      "cell_type": "code",
      "execution_count": 5,
      "metadata": {
        "id": "W5VDu_N5Y-2n",
        "outputId": "290a5267-5752-42a3-912e-24779ed9cc51"
      },
      "outputs": [
        {
          "data": {
            "text/plain": [
              "array([[[ 1,  2,  3],\n",
              "        [ 4,  5,  6]],\n",
              "\n",
              "       [[ 7,  8,  9],\n",
              "        [10, 11, 12]]])"
            ]
          },
          "execution_count": 5,
          "metadata": {},
          "output_type": "execute_result"
        }
      ],
      "source": [
        "# Array de tres dimensiones\n",
        "array_tridim"
      ]
    },
    {
      "cell_type": "markdown",
      "metadata": {
        "id": "qp2_ZpJXviZN"
      },
      "source": [
        "Para cada uno de estos arrays, podemos obtener sus propiedades, tales como su \"forma\", número de dimensiones, tipos de datos y tamaño."
      ]
    },
    {
      "cell_type": "code",
      "execution_count": 6,
      "metadata": {
        "id": "m2HD8334viZN",
        "outputId": "afd249a8-b847-408c-ada4-a846166ffa94"
      },
      "outputs": [
        {
          "name": "stdout",
          "output_type": "stream",
          "text": [
            "\n",
            "Array Unidimensional: \n",
            " [1 2 3 4 5]\n",
            "\n",
            "Forma: \n",
            " (5,)\n",
            "\n",
            "Numero de dimensiones: \n",
            " 1\n",
            "\n",
            "Tipos de datos: \n",
            " int32\n",
            "\n",
            "Tamaño: \n",
            " 5\n",
            "\n",
            "Tipo: \n",
            " <class 'numpy.ndarray'>\n"
          ]
        }
      ],
      "source": [
        "# Atributos del array unidimensional (forma, número de dimensiones, tipos de datos, tamaño, y tipo)\n",
        "print(\"\\nArray Unidimensional: \\n\" , array_unidim)\n",
        "print(\"\\nForma: \\n\"                , array_unidim.shape)  # vector 5 elementos\n",
        "print(\"\\nNumero de dimensiones: \\n\", array_unidim.ndim)   # 1 dimension\n",
        "print(\"\\nTipos de datos: \\n\"       , array_unidim.dtype)  # int32\n",
        "print(\"\\nTamaño: \\n\"               , array_unidim.size)   # 5\n",
        "print(\"\\nTipo: \\n\"                 , type(array_unidim))  # <class 'numpy.ndarray'>"
      ]
    },
    {
      "cell_type": "code",
      "execution_count": 7,
      "metadata": {
        "id": "CW6dU4z6viZO",
        "outputId": "baf73a7c-dcb1-4246-b6c5-930e259f7487"
      },
      "outputs": [
        {
          "name": "stdout",
          "output_type": "stream",
          "text": [
            "\n",
            "Array Bidimensional: \n",
            " [[1 2 3]\n",
            " [4 5 6]]\n",
            "\n",
            "Forma: \n",
            " (2, 3)\n",
            "\n",
            "Numero de dimensiones: \n",
            " 2\n",
            "\n",
            "Tipos de datos: \n",
            " int32\n",
            "\n",
            "Tamaño: \n",
            " 6\n",
            "\n",
            "Tipo: \n",
            " <class 'numpy.ndarray'>\n"
          ]
        }
      ],
      "source": [
        "# Atributos del array bidimensional\n",
        "print(\"\\nArray Bidimensional: \\n\"  , array_bidim)\n",
        "print(\"\\nForma: \\n\"                , array_bidim.shape)  # matriz de 2 filas x 3 columnas\n",
        "print(\"\\nNumero de dimensiones: \\n\", array_bidim.ndim)   # 2 dimensiones\n",
        "print(\"\\nTipos de datos: \\n\"       , array_bidim.dtype)  # int32\n",
        "print(\"\\nTamaño: \\n\"               , array_bidim.size)   # 6\n",
        "print(\"\\nTipo: \\n\"                 , type(array_bidim))  # <class 'numpy.ndarray'> "
      ]
    },
    {
      "cell_type": "code",
      "execution_count": 8,
      "metadata": {
        "id": "2dQw-98tviZP",
        "outputId": "42ba5965-f9dc-404f-eecb-e96b34fcd52b"
      },
      "outputs": [
        {
          "name": "stdout",
          "output_type": "stream",
          "text": [
            "\n",
            "Array Tridimensional: \n",
            " [[[ 1  2  3]\n",
            "  [ 4  5  6]]\n",
            "\n",
            " [[ 7  8  9]\n",
            "  [10 11 12]]]\n",
            "\n",
            "Forma: \n",
            " (2, 2, 3)\n",
            "\n",
            "Numero de dimensiones: \n",
            " 3\n",
            "\n",
            "Tipos de datos: \n",
            " int32\n",
            "\n",
            "Tamaño: \n",
            " 12\n",
            "\n",
            "Tipo: \n",
            " <class 'numpy.ndarray'>\n"
          ]
        }
      ],
      "source": [
        "# Atributos del array tridimensional\n",
        "print(\"\\nArray Tridimensional: \\n\" , array_tridim)\n",
        "print(\"\\nForma: \\n\"                , array_tridim.shape)  # 2 matrices, cada una de 2 filas x 3 columnas\n",
        "print(\"\\nNumero de dimensiones: \\n\", array_tridim.ndim)   # 3 dimensiones\n",
        "print(\"\\nTipos de datos: \\n\"       , array_tridim.dtype)  # int32\n",
        "print(\"\\nTamaño: \\n\"               , array_tridim.size)   # 12\n",
        "print(\"\\nTipo: \\n\"                 , type(array_tridim))  # <class 'numpy.ndarray'>"
      ]
    },
    {
      "cell_type": "code",
      "execution_count": 9,
      "metadata": {
        "id": "bqWXuSpEviZQ",
        "outputId": "47ba1035-ae71-4cf9-937d-a1148ca1be93"
      },
      "outputs": [
        {
          "data": {
            "text/html": [
              "<div>\n",
              "<style scoped>\n",
              "    .dataframe tbody tr th:only-of-type {\n",
              "        vertical-align: middle;\n",
              "    }\n",
              "\n",
              "    .dataframe tbody tr th {\n",
              "        vertical-align: top;\n",
              "    }\n",
              "\n",
              "    .dataframe thead th {\n",
              "        text-align: right;\n",
              "    }\n",
              "</style>\n",
              "<table border=\"1\" class=\"dataframe\">\n",
              "  <thead>\n",
              "    <tr style=\"text-align: right;\">\n",
              "      <th></th>\n",
              "      <th>0</th>\n",
              "      <th>1</th>\n",
              "      <th>2</th>\n",
              "    </tr>\n",
              "  </thead>\n",
              "  <tbody>\n",
              "    <tr>\n",
              "      <th>0</th>\n",
              "      <td>1</td>\n",
              "      <td>2</td>\n",
              "      <td>3</td>\n",
              "    </tr>\n",
              "    <tr>\n",
              "      <th>1</th>\n",
              "      <td>4</td>\n",
              "      <td>5</td>\n",
              "      <td>6</td>\n",
              "    </tr>\n",
              "  </tbody>\n",
              "</table>\n",
              "</div>"
            ],
            "text/plain": [
              "   0  1  2\n",
              "0  1  2  3\n",
              "1  4  5  6"
            ]
          },
          "execution_count": 9,
          "metadata": {},
          "output_type": "execute_result"
        }
      ],
      "source": [
        "# Importamos pandas como pd, y creamos un DataFrame a partir del array bidimensional\n",
        "\"\"\"\n",
        "Pandas es el Excel de Python. Un DataFrame es basicamente una tabla de Excel\n",
        "\"\"\"\n",
        "import pandas as pd\n",
        "datos_bidim = pd.DataFrame(array_bidim)\n",
        "datos_bidim"
      ]
    },
    {
      "cell_type": "code",
      "execution_count": 10,
      "metadata": {
        "id": "uxuBbWJlviZQ",
        "outputId": "0b4bdf84-26fe-404a-b531-27f00b935bf4"
      },
      "outputs": [
        {
          "data": {
            "text/plain": [
              "array([[1., 1., 1.],\n",
              "       [1., 1., 1.],\n",
              "       [1., 1., 1.],\n",
              "       [1., 1., 1.]])"
            ]
          },
          "execution_count": 10,
          "metadata": {},
          "output_type": "execute_result"
        }
      ],
      "source": [
        "# Creamos un array de tamaño 4x3, formado únicamente por unos (1)\n",
        "\"\"\"\n",
        "matriz de 4 filas x 3 columnas\n",
        "\"\"\"\n",
        "array_bidim_unos = np.ones((4, 3))\n",
        "array_bidim_unos"
      ]
    },
    {
      "cell_type": "code",
      "execution_count": 11,
      "metadata": {
        "id": "lf4ntwB-viZR",
        "outputId": "0337c7b8-8de6-41cf-d2f9-d97d41e1545c"
      },
      "outputs": [
        {
          "data": {
            "text/plain": [
              "array([[[0., 0., 0.],\n",
              "        [0., 0., 0.],\n",
              "        [0., 0., 0.],\n",
              "        [0., 0., 0.]],\n",
              "\n",
              "       [[0., 0., 0.],\n",
              "        [0., 0., 0.],\n",
              "        [0., 0., 0.],\n",
              "        [0., 0., 0.]]])"
            ]
          },
          "execution_count": 11,
          "metadata": {},
          "output_type": "execute_result"
        }
      ],
      "source": [
        "# Creamos un array de tamaño 2x4x3, formado únicamente por ceros (0)\n",
        "\"\"\"\n",
        "2 matrices de 4 filas x 3 columnas\n",
        "\"\"\"\n",
        "array_tridim_ceros = np.zeros((2, 4, 3))\n",
        "array_tridim_ceros"
      ]
    },
    {
      "cell_type": "code",
      "execution_count": 12,
      "metadata": {
        "id": "HSJS5vPvviZS",
        "outputId": "fab60775-46d6-4c61-8f0a-36da40b94a3d"
      },
      "outputs": [
        {
          "data": {
            "text/plain": [
              "array([  0,   5,  10,  15,  20,  25,  30,  35,  40,  45,  50,  55,  60,\n",
              "        65,  70,  75,  80,  85,  90,  95, 100])"
            ]
          },
          "execution_count": 12,
          "metadata": {},
          "output_type": "execute_result"
        }
      ],
      "source": [
        "# Creamos un array de números en el rango de 0 a 100, con un paso de 5\n",
        "array_1 = np.arange(0, 101, 5)\n",
        "array_1"
      ]
    },
    {
      "cell_type": "code",
      "execution_count": 13,
      "metadata": {
        "id": "IuSvyty3viZT",
        "outputId": "bbb33be9-dcb2-4128-e565-90da7eb6435e"
      },
      "outputs": [
        {
          "data": {
            "text/plain": [
              "array([[9, 8, 6, 9, 4],\n",
              "       [4, 1, 7, 5, 5]])"
            ]
          },
          "execution_count": 13,
          "metadata": {},
          "output_type": "execute_result"
        }
      ],
      "source": [
        "# Creamos un array de números aleatorios enteros comprendidos en entre 0 y 10, de tamaño (2, 5)\n",
        "\"\"\"\n",
        "random.randint genera numeros aleatorios, en este caso generara valores entre 0 <= x < 10\n",
        "El tecer valor pasado a la funcion random.randint es una tupla donde se especifica las filas y columnas\n",
        "\"\"\"\n",
        "array_2 = np.random.randint(0, 10, (2, 5))\n",
        "array_2"
      ]
    },
    {
      "cell_type": "code",
      "execution_count": 14,
      "metadata": {
        "id": "grncP2mwviZT",
        "outputId": "c4e12901-fa28-46de-90cf-8669164b47bc"
      },
      "outputs": [
        {
          "data": {
            "text/plain": [
              "array([[0.76567362, 0.34538604, 0.86493826, 0.96927667, 0.35901092],\n",
              "       [0.95522996, 0.3123348 , 0.13044263, 0.57582849, 0.69811679],\n",
              "       [0.12156838, 0.38982883, 0.78230445, 0.87751391, 0.55307985]])"
            ]
          },
          "execution_count": 14,
          "metadata": {},
          "output_type": "execute_result"
        }
      ],
      "source": [
        "# Creamos un array de números aleatorios decimales comprendidos en entre 0 y 1, de tamaño (3, 5)\n",
        "\"\"\"\n",
        "random.random retorna un valor entre 0 y 1\n",
        "\"\"\"\n",
        "array_3 = np.random.random((3, 5))\n",
        "array_3"
      ]
    },
    {
      "cell_type": "code",
      "execution_count": 15,
      "metadata": {
        "id": "8pCexJ6zviZT",
        "outputId": "8f0c243e-1423-4d7a-d7a6-86784aa3c14a"
      },
      "outputs": [
        {
          "data": {
            "text/plain": [
              "array([[3, 8, 8, 8, 0],\n",
              "       [5, 8, 9, 1, 2],\n",
              "       [1, 1, 4, 6, 3]])"
            ]
          },
          "execution_count": 15,
          "metadata": {},
          "output_type": "execute_result"
        }
      ],
      "source": [
        "# Establecer semilla de números aleatorios en 27\n",
        "\"\"\"\n",
        "Con esto la funcion np.random generara siempre los mismos resultados, ya que tiene una semilla definida\n",
        "\"\"\"\n",
        "np.random.seed(27)\n",
        "\n",
        "# Creamos un array de números aleatorios enteros comprendidos en entre 0 y 10, de tamaño (3, 5)\n",
        "\"\"\"\n",
        "random.randint genera numeros aleatorios, en este caso generara valores entre 0 <= x < 10\n",
        "El tercer valor pasado a la funcion random.randint es una tupla donde se especifica las filas y columnas\n",
        "\"\"\"\n",
        "array_4 = np.random.randint(0, 10, (3, 5))\n",
        "array_4"
      ]
    },
    {
      "cell_type": "markdown",
      "metadata": {
        "id": "N41yqfNDviZU"
      },
      "source": [
        "¿Qué ocurre al correr la última celda nuevamente, a diferencia de las anteriores?"
      ]
    },
    {
      "cell_type": "code",
      "execution_count": 16,
      "metadata": {
        "id": "acrAc-j4viZY",
        "outputId": "3273d21b-277b-416f-8cf8-47c766023a88"
      },
      "outputs": [
        {
          "data": {
            "text/plain": [
              "array([0, 1, 2, 3, 4, 5, 6, 8, 9])"
            ]
          },
          "execution_count": 16,
          "metadata": {},
          "output_type": "execute_result"
        }
      ],
      "source": [
        "# Encontramos los valores únicos del array_4\n",
        "\"\"\"\n",
        "Obtiene un array con valores unicos que obtiene analizando de forma recursiva array_4\n",
        "\"\"\"\n",
        "array_4_unique = np.unique(array_4)\n",
        "array_4_unique"
      ]
    },
    {
      "cell_type": "code",
      "execution_count": 17,
      "metadata": {
        "id": "d-pXWguvviZZ",
        "outputId": "171496ec-54de-42a4-c866-60906834bd49"
      },
      "outputs": [
        {
          "data": {
            "text/plain": [
              "array([3, 8, 8, 8, 0])"
            ]
          },
          "execution_count": 17,
          "metadata": {},
          "output_type": "execute_result"
        }
      ],
      "source": [
        "# Extraemos el elemento de índice 0 del array_4\n",
        "array_4[0]"
      ]
    },
    {
      "cell_type": "code",
      "execution_count": 18,
      "metadata": {
        "id": "cVx_UouPviZa",
        "outputId": "163f1bfc-4c09-41de-a6bd-74b82faad1ff"
      },
      "outputs": [
        {
          "data": {
            "text/plain": [
              "array([[3, 8, 8, 8, 0],\n",
              "       [5, 8, 9, 1, 2]])"
            ]
          },
          "execution_count": 18,
          "metadata": {},
          "output_type": "execute_result"
        }
      ],
      "source": [
        "# Extraemos las primeras dos filas del array_4\n",
        "\"\"\"\n",
        "[:2], filas con indice 0, 1\n",
        "\"\"\"\n",
        "array_4[:2]"
      ]
    },
    {
      "cell_type": "code",
      "execution_count": 19,
      "metadata": {
        "id": "rIsVaI-JviZa",
        "outputId": "db8000a1-d572-4336-d81d-797208dfe28c"
      },
      "outputs": [
        {
          "data": {
            "text/plain": [
              "array([[3, 8, 8],\n",
              "       [5, 8, 9]])"
            ]
          },
          "execution_count": 19,
          "metadata": {},
          "output_type": "execute_result"
        }
      ],
      "source": [
        "# Extraemos los dos primeros datos de las primeras dos filas del array_4\n",
        "\"\"\"\n",
        "[:2, :3], filas con indice 0, 1 y columnas con indice 0, 1, 2\n",
        "\"\"\"\n",
        "array_4[:2, :3]"
      ]
    },
    {
      "cell_type": "code",
      "execution_count": 20,
      "metadata": {
        "id": "3sw4JCF6viZb"
      },
      "outputs": [],
      "source": [
        "# Creamos dos arrays de tamaño 3x4: uno relleno de números aleatorios entre 0 y 10, y otro relleno de unos\n",
        "array_5 = np.random.randint(0, 10, (3, 4))\n",
        "array_6 = np.ones((3, 4))"
      ]
    },
    {
      "cell_type": "code",
      "execution_count": 21,
      "metadata": {
        "id": "kVas2wqdviZb",
        "outputId": "cfe2f0d5-3130-47cc-841c-aec9227f8cf6"
      },
      "outputs": [
        {
          "data": {
            "text/plain": [
              "array([[3, 0, 5, 3],\n",
              "       [3, 6, 7, 2],\n",
              "       [7, 8, 5, 7]])"
            ]
          },
          "execution_count": 21,
          "metadata": {},
          "output_type": "execute_result"
        }
      ],
      "source": [
        "# invocamos el array_5\n",
        "array_5"
      ]
    },
    {
      "cell_type": "code",
      "execution_count": 22,
      "metadata": {
        "id": "ZnZoUjRIviZb",
        "outputId": "df6ca3ee-924e-43ab-cef5-fa43d5ec2089"
      },
      "outputs": [
        {
          "data": {
            "text/plain": [
              "array([[1., 1., 1., 1.],\n",
              "       [1., 1., 1., 1.],\n",
              "       [1., 1., 1., 1.]])"
            ]
          },
          "execution_count": 22,
          "metadata": {},
          "output_type": "execute_result"
        }
      ],
      "source": [
        "# invocamos el array_6\n",
        "array_6"
      ]
    },
    {
      "cell_type": "code",
      "execution_count": 23,
      "metadata": {
        "id": "EoBkbsHqviZb",
        "outputId": "04559ab9-44e6-4179-8f92-d808d9bbd451"
      },
      "outputs": [
        {
          "data": {
            "text/plain": [
              "array([[4., 1., 6., 4.],\n",
              "       [4., 7., 8., 3.],\n",
              "       [8., 9., 6., 8.]])"
            ]
          },
          "execution_count": 23,
          "metadata": {},
          "output_type": "execute_result"
        }
      ],
      "source": [
        "# Sumamos los dos arrays\n",
        "array_5 + array_6"
      ]
    },
    {
      "cell_type": "code",
      "execution_count": 24,
      "metadata": {
        "id": "493z2XKFviZc",
        "outputId": "65a00f68-c9d2-489c-a166-d7f2f96e3d2f"
      },
      "outputs": [
        {
          "data": {
            "text/plain": [
              "array([[1., 1., 1.],\n",
              "       [1., 1., 1.],\n",
              "       [1., 1., 1.],\n",
              "       [1., 1., 1.]])"
            ]
          },
          "execution_count": 24,
          "metadata": {},
          "output_type": "execute_result"
        }
      ],
      "source": [
        "# Creamos ahora un array de tamaño (4,3) lleno de unos\n",
        "array_7 = np.ones((4, 3))\n",
        "array_7"
      ]
    },
    {
      "cell_type": "code",
      "execution_count": 25,
      "metadata": {
        "id": "f19RtdoYviZc",
        "outputId": "a0407701-ea12-4d2e-c864-cc5e6bc01a39"
      },
      "outputs": [
        {
          "data": {
            "text/plain": [
              "'\\nEsto genera error porque no se pueden sumar arrays con diferentes formas\\narray_6 + array_7\\n'"
            ]
          },
          "execution_count": 25,
          "metadata": {},
          "output_type": "execute_result"
        }
      ],
      "source": [
        "# Intentaremos sumar los arrays 6 y 7\n",
        "\"\"\"\n",
        "Esto genera error porque no se pueden sumar arrays con diferentes formas\n",
        "array_6 + array_7\n",
        "\"\"\""
      ]
    },
    {
      "cell_type": "markdown",
      "metadata": {
        "id": "wZKsfqU4viZc"
      },
      "source": [
        "¿A qué se debe el error anterior? ¿Qué deberíamos tener en cuenta para que no suceda?"
      ]
    },
    {
      "cell_type": "code",
      "execution_count": 26,
      "metadata": {
        "id": "obwyxLmWviZc",
        "outputId": "6da8d9fb-5506-44b6-d3f5-176614812a01"
      },
      "outputs": [
        {
          "data": {
            "text/plain": [
              "array([[1., 1., 1.],\n",
              "       [1., 1., 1.],\n",
              "       [1., 1., 1.],\n",
              "       [1., 1., 1.]])"
            ]
          },
          "execution_count": 26,
          "metadata": {},
          "output_type": "execute_result"
        }
      ],
      "source": [
        "# Entonces crearemos otro array de tamaño (4,3) lleno de unos\n",
        "array_8 = np.ones((4, 3))\n",
        "array_8"
      ]
    },
    {
      "cell_type": "code",
      "execution_count": 27,
      "metadata": {
        "id": "JyBEsQ5NviZd",
        "outputId": "01837769-2d9b-4548-db10-4b442ea3298c"
      },
      "outputs": [
        {
          "data": {
            "text/plain": [
              "array([[0., 0., 0.],\n",
              "       [0., 0., 0.],\n",
              "       [0., 0., 0.],\n",
              "       [0., 0., 0.]])"
            ]
          },
          "execution_count": 27,
          "metadata": {},
          "output_type": "execute_result"
        }
      ],
      "source": [
        "# Restamos el array_8 al array_7\n",
        "array_8 - array_7"
      ]
    },
    {
      "cell_type": "code",
      "execution_count": 28,
      "metadata": {
        "id": "utZb5NTzviZd"
      },
      "outputs": [],
      "source": [
        "# Creamos otros dos arrays de tamaño 3x3 con números aleatorios del 1 al 5\n",
        "array_9 = np.random.randint(1, 5, (3, 3))\n",
        "array_10 = np.random.randint(1, 5, (3, 3))"
      ]
    },
    {
      "cell_type": "code",
      "execution_count": 29,
      "metadata": {
        "id": "u1vV-B5C2vSk",
        "outputId": "1a6a4255-8bb6-438c-94ec-4475d9329f3b"
      },
      "outputs": [
        {
          "data": {
            "text/plain": [
              "array([[2, 3, 4],\n",
              "       [1, 4, 4],\n",
              "       [2, 3, 4]])"
            ]
          },
          "execution_count": 29,
          "metadata": {},
          "output_type": "execute_result"
        }
      ],
      "source": [
        "# invocamos el array_9\n",
        "array_9"
      ]
    },
    {
      "cell_type": "code",
      "execution_count": 30,
      "metadata": {
        "id": "79rO6fGL2wvE",
        "outputId": "f265db95-fe6f-4420-9678-75ce8f9e1831"
      },
      "outputs": [
        {
          "data": {
            "text/plain": [
              "array([[2, 1, 4],\n",
              "       [4, 1, 2],\n",
              "       [2, 4, 1]])"
            ]
          },
          "execution_count": 30,
          "metadata": {},
          "output_type": "execute_result"
        }
      ],
      "source": [
        "# invocamos el array_10\n",
        "array_10"
      ]
    },
    {
      "cell_type": "code",
      "execution_count": 31,
      "metadata": {
        "id": "ZhBCrrbKviZd",
        "outputId": "9ea5d498-cabf-4c3f-ca8d-9edaef3d5ddd"
      },
      "outputs": [
        {
          "data": {
            "text/plain": [
              "array([[ 4,  3, 16],\n",
              "       [ 4,  4,  8],\n",
              "       [ 4, 12,  4]])"
            ]
          },
          "execution_count": 31,
          "metadata": {},
          "output_type": "execute_result"
        }
      ],
      "source": [
        "# Multiplicamos los últimos dos arrays entre sí\n",
        "array_9 * array_10"
      ]
    },
    {
      "cell_type": "code",
      "execution_count": 32,
      "metadata": {
        "id": "-u-zydBZviZd",
        "outputId": "3bccf352-11da-41c2-b4f7-e371843c3c39"
      },
      "outputs": [
        {
          "data": {
            "text/plain": [
              "array([[ 4,  9, 16],\n",
              "       [ 1, 16, 16],\n",
              "       [ 4,  9, 16]])"
            ]
          },
          "execution_count": 32,
          "metadata": {},
          "output_type": "execute_result"
        }
      ],
      "source": [
        "# Elevamos el array_9 al cuadrado\n",
        "array_9**2"
      ]
    },
    {
      "cell_type": "code",
      "execution_count": 33,
      "metadata": {
        "id": "dMEqsjSD3D6F",
        "outputId": "56778d91-54a6-4d64-f547-b1b64056e4d4"
      },
      "outputs": [
        {
          "data": {
            "text/plain": [
              "array([[1.41421356, 1.        , 2.        ],\n",
              "       [2.        , 1.        , 1.41421356],\n",
              "       [1.41421356, 2.        , 1.        ]])"
            ]
          },
          "execution_count": 33,
          "metadata": {},
          "output_type": "execute_result"
        }
      ],
      "source": [
        "# Buscamos la raíz cuadrada del array_10\n",
        "np.sqrt(array_10)"
      ]
    },
    {
      "cell_type": "code",
      "execution_count": 34,
      "metadata": {
        "id": "4TlMFRRFviZd",
        "outputId": "34f788c8-9d83-4e7b-98c3-fc77e6fdfaec"
      },
      "outputs": [
        {
          "data": {
            "text/plain": [
              "3.0"
            ]
          },
          "execution_count": 34,
          "metadata": {},
          "output_type": "execute_result"
        }
      ],
      "source": [
        "# Hallamos el promedio de los valores del array_9\n",
        "\"\"\"\n",
        "mean es la Media o Promedio\n",
        "\"\"\"\n",
        "array_9.mean()"
      ]
    },
    {
      "cell_type": "code",
      "execution_count": 35,
      "metadata": {
        "id": "mu1-ASw7viZd",
        "outputId": "f78074e6-7ac5-4f40-c6e4-6962ef743929"
      },
      "outputs": [
        {
          "data": {
            "text/plain": [
              "4"
            ]
          },
          "execution_count": 35,
          "metadata": {},
          "output_type": "execute_result"
        }
      ],
      "source": [
        "# Hallamos el valor máximo de los valores del array_9\n",
        "array_9.max()"
      ]
    },
    {
      "cell_type": "code",
      "execution_count": 36,
      "metadata": {
        "id": "iKAPHmnVviZe",
        "outputId": "b390ea6e-29bc-4bde-ff07-84f7fac12eb3"
      },
      "outputs": [
        {
          "data": {
            "text/plain": [
              "1"
            ]
          },
          "execution_count": 36,
          "metadata": {},
          "output_type": "execute_result"
        }
      ],
      "source": [
        "# Hallamos el valor mínimo de los valores del array_9\n",
        "array_9.min()"
      ]
    },
    {
      "cell_type": "code",
      "execution_count": 37,
      "metadata": {
        "id": "K2N9WX6dviZe"
      },
      "outputs": [],
      "source": [
        "# Cambiamos la forma del array_9 por una de 9x1, y lo almacenamos como array_11\n",
        "\"\"\"\n",
        "9 filas x 1 columna\n",
        "\"\"\"\n",
        "array_11 = array_9.reshape((9, 1))"
      ]
    },
    {
      "cell_type": "code",
      "execution_count": 38,
      "metadata": {
        "id": "YM2wKMOk3vrJ",
        "outputId": "38da2630-9f01-41e8-81b2-0bc4785762fa"
      },
      "outputs": [
        {
          "data": {
            "text/plain": [
              "array([[2],\n",
              "       [3],\n",
              "       [4],\n",
              "       [1],\n",
              "       [4],\n",
              "       [4],\n",
              "       [2],\n",
              "       [3],\n",
              "       [4]])"
            ]
          },
          "execution_count": 38,
          "metadata": {},
          "output_type": "execute_result"
        }
      ],
      "source": [
        "# invocamos el array_11\n",
        "array_11"
      ]
    },
    {
      "cell_type": "code",
      "execution_count": 39,
      "metadata": {
        "id": "hjv049niviZe",
        "outputId": "2cb17dd9-918e-40a6-e5e1-a90a500550f0"
      },
      "outputs": [
        {
          "data": {
            "text/plain": [
              "array([[2, 3, 4, 1, 4, 4, 2, 3, 4]])"
            ]
          },
          "execution_count": 39,
          "metadata": {},
          "output_type": "execute_result"
        }
      ],
      "source": [
        "# Transponemos el array_11\n",
        "array_11.T"
      ]
    },
    {
      "cell_type": "code",
      "execution_count": 40,
      "metadata": {
        "id": "ygIkkZcwviZg",
        "outputId": "6f49cea2-32a2-443a-be82-a7e8bd7f7e65"
      },
      "outputs": [
        {
          "data": {
            "text/plain": [
              "array([[False,  True, False],\n",
              "       [False,  True,  True],\n",
              "       [False, False,  True]])"
            ]
          },
          "execution_count": 40,
          "metadata": {},
          "output_type": "execute_result"
        }
      ],
      "source": [
        "# Comparamos el array_9 y el array_10, para saber cuáles elementos del array_9 son mayores a los del array_10\n",
        "array_12 = array_9 > array_10\n",
        "array_12"
      ]
    },
    {
      "cell_type": "markdown",
      "metadata": {
        "id": "-MNVhc50viZg"
      },
      "source": [
        "¿Qué tipos de datos forman parte del array de resultados?"
      ]
    },
    {
      "cell_type": "code",
      "execution_count": 41,
      "metadata": {
        "id": "OyAX78-CY-3Y",
        "outputId": "50984dd4-c878-4a9e-9933-f6f5a808d4bb"
      },
      "outputs": [
        {
          "data": {
            "text/plain": [
              "numpy.ndarray"
            ]
          },
          "execution_count": 41,
          "metadata": {},
          "output_type": "execute_result"
        }
      ],
      "source": [
        "# Obtener el tipo de datos del array_12\n",
        "type(array_12)"
      ]
    },
    {
      "cell_type": "code",
      "execution_count": 42,
      "metadata": {
        "id": "JRRyJjDdEUd4",
        "outputId": "c9c59e6c-b969-44d4-8f18-9b8b089988f6"
      },
      "outputs": [
        {
          "data": {
            "text/plain": [
              "dtype('bool')"
            ]
          },
          "execution_count": 42,
          "metadata": {},
          "output_type": "execute_result"
        }
      ],
      "source": [
        "# Obtener el tipo de datos de los elementos en el array_12\n",
        "array_12.dtype"
      ]
    },
    {
      "cell_type": "code",
      "execution_count": 43,
      "metadata": {
        "id": "toyvK5rYviZh",
        "outputId": "d6d46e44-76bb-43d8-eae6-b2ac4c056057"
      },
      "outputs": [
        {
          "data": {
            "text/plain": [
              "array([[ True, False,  True],\n",
              "       [False, False, False],\n",
              "       [ True, False, False]])"
            ]
          },
          "execution_count": 43,
          "metadata": {},
          "output_type": "execute_result"
        }
      ],
      "source": [
        "# Alguno de los elementos del array_9 es igual su equivalente del array_10?\n",
        "array_9 == array_10"
      ]
    },
    {
      "cell_type": "code",
      "execution_count": 44,
      "metadata": {
        "id": "FXguC1-UviZg",
        "outputId": "572ab175-0047-4553-be27-73a0d4fd58d1"
      },
      "outputs": [
        {
          "data": {
            "text/plain": [
              "array([[ True,  True,  True],\n",
              "       [False,  True,  True],\n",
              "       [ True, False,  True]])"
            ]
          },
          "execution_count": 44,
          "metadata": {},
          "output_type": "execute_result"
        }
      ],
      "source": [
        "# Comparamos nuevamente ambos arrays, en esta ocasión con >=\n",
        "array_9 >= array_10"
      ]
    },
    {
      "cell_type": "code",
      "execution_count": 45,
      "metadata": {
        "id": "Ws2bJ0ZEviZg",
        "outputId": "b9949aef-7864-43bc-982c-166901b5eede"
      },
      "outputs": [
        {
          "data": {
            "text/plain": [
              "array([[False,  True,  True],\n",
              "       [False,  True,  True],\n",
              "       [False,  True,  True]])"
            ]
          },
          "execution_count": 45,
          "metadata": {},
          "output_type": "execute_result"
        }
      ],
      "source": [
        "# Buscamos los elementos del array_9 que son mayores a 2\n",
        "array_9 > 2"
      ]
    },
    {
      "cell_type": "code",
      "execution_count": 46,
      "metadata": {
        "id": "z4XeFVsoviZh",
        "outputId": "27c56d94-bafe-40c5-953c-02e672689dd5"
      },
      "outputs": [
        {
          "data": {
            "text/plain": [
              "array([[2, 3, 4],\n",
              "       [1, 4, 4],\n",
              "       [2, 3, 4]])"
            ]
          },
          "execution_count": 46,
          "metadata": {},
          "output_type": "execute_result"
        }
      ],
      "source": [
        "# Ordenamos de menor a mayor los elementos dentro del array_9\n",
        "\"\"\"\n",
        "Obtenemos los elementos ordenados de menor a mayor en cada fila\n",
        "\"\"\"\n",
        "np.sort(array_9)"
      ]
    },
    {
      "cell_type": "code",
      "execution_count": 47,
      "metadata": {
        "id": "ZiqypY5AY-3d",
        "outputId": "2fc2e39e-5211-4785-890a-ed5b3f1189d0"
      },
      "outputs": [
        {
          "data": {
            "text/plain": [
              "array([[4, 3, 2],\n",
              "       [4, 4, 1],\n",
              "       [4, 3, 2]])"
            ]
          },
          "execution_count": 47,
          "metadata": {},
          "output_type": "execute_result"
        }
      ],
      "source": [
        "# Ordenamos de mayor a menor los elementos dentro del array_9\n",
        "\"\"\"\n",
        "Obtenemos los elementos ordenados de mayor a menor en cada fila\n",
        "\"\"\"\n",
        "-np.sort(-array_9)"
      ]
    },
    {
      "cell_type": "code",
      "execution_count": null,
      "metadata": {},
      "outputs": [],
      "source": []
    }
  ],
  "metadata": {
    "colab": {
      "provenance": []
    },
    "kernelspec": {
      "display_name": "Python 3 (ipykernel)",
      "language": "python",
      "name": "python3"
    },
    "language_info": {
      "codemirror_mode": {
        "name": "ipython",
        "version": 3
      },
      "file_extension": ".py",
      "mimetype": "text/x-python",
      "name": "python",
      "nbconvert_exporter": "python",
      "pygments_lexer": "ipython3",
      "version": "3.11.7"
    }
  },
  "nbformat": 4,
  "nbformat_minor": 0
}
